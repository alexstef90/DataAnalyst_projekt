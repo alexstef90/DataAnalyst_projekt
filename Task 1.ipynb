{
 "cells": [
  {
   "cell_type": "markdown",
   "id": "db04c139-1987-406e-bc20-b30b4975c9dc",
   "metadata": {},
   "source": [
    "# Задание 1. Проведение АА-теста"
   ]
  },
  {
   "cell_type": "markdown",
   "id": "a97e7431-c2ad-4f4f-a450-75bd4464b6a8",
   "metadata": {},
   "source": [
    "## Задание 1:"
   ]
  },
  {
   "cell_type": "markdown",
   "id": "b988c428-8323-4c58-a848-de6dca61c114",
   "metadata": {},
   "source": [
    "Необходимо сделать симуляцию, как будто мы провели 10000 АА-тестов за период с 27-08-2022 до 02-09-2022. На каждой итерации нам нужно сформировать подвыборки без повторения в 500 юзеров из 2 и 3 экспериментальной группы. Провести сравнение этих подвыборок t-testом.\n",
    "* Построить гистограмму распределения получившихся 10000 p-values.\n",
    "* Посчитать, какой процент p values оказался меньше либо равен 0.05\n",
    "* Написать вывод по проведенному АА-тесту, корректно ли работает наша система сплитования."
   ]
  },
  {
   "cell_type": "markdown",
   "id": "eb84388e-07f4-4225-b25f-3a47c9213f86",
   "metadata": {},
   "source": [
    "### 1. Загружаем необходимые библиотеки"
   ]
  },
  {
   "cell_type": "code",
   "execution_count": null,
   "id": "325c5dc8-a9e6-46e0-83b5-8c0c57937df3",
   "metadata": {},
   "outputs": [],
   "source": [
    "import pandahouse\n",
    "import pandas as pd\n",
    "import numpy as np\n",
    "import matplotlib.pyplot as plt\n",
    "import seaborn as sns\n",
    "import hashlib \n",
    "from scipy import stats # статистика\n",
    "%matplotlib inline\n",
    "sns.set()"
   ]
  },
  {
   "cell_type": "markdown",
   "id": "59d3c8dd-adc8-4cf3-b60c-3ec3df2ed7a4",
   "metadata": {},
   "source": [
    "### 2. Подключаемся к нашей базе данных, выбираем наши экспертные группы, 2 и 3, за необходимый период. Определяем значение CTR для пользователей."
   ]
  },
  {
   "cell_type": "code",
   "execution_count": 29,
   "id": "7866b180-8fed-4a7c-9901-40908aa09e55",
   "metadata": {},
   "outputs": [],
   "source": [
    "connection = {\n",
    "    'host': 'https://clickhouse.lab.karpov.courses',\n",
    "    'password': 'dpo_python_2020',\n",
    "    'user': 'student',\n",
    "    'database': 'simulator_20220920'\n",
    "}\n",
    "\n",
    "q = \"\"\"\n",
    "SELECT exp_group, \n",
    "    user_id,\n",
    "    sum(action = 'like') as likes,\n",
    "    sum(action = 'view') as views,\n",
    "    likes/views as ctr\n",
    "FROM {db}.feed_actions \n",
    "WHERE toDate(time) between '2022-08-27' and '2022-09-02'\n",
    "    and exp_group in (2,3)\n",
    "GROUP BY exp_group, user_id\n",
    "\"\"\"\n",
    "\n",
    "df = pandahouse.read_clickhouse(q, connection=connection)\n",
    "\n"
   ]
  },
  {
   "cell_type": "markdown",
   "id": "aa23a87a-452a-463c-9ec1-2658dbe7eb91",
   "metadata": {},
   "source": [
    "### 3. Загружаем полученные данные в датафрейм и строим гистограмму распределения наших CTR для двух групп."
   ]
  },
  {
   "cell_type": "code",
   "execution_count": 30,
   "id": "c080bfb1-1257-4467-a73f-67e5a3a793a4",
   "metadata": {},
   "outputs": [
    {
     "data": {
      "text/html": [
       "<div>\n",
       "<style scoped>\n",
       "    .dataframe tbody tr th:only-of-type {\n",
       "        vertical-align: middle;\n",
       "    }\n",
       "\n",
       "    .dataframe tbody tr th {\n",
       "        vertical-align: top;\n",
       "    }\n",
       "\n",
       "    .dataframe thead th {\n",
       "        text-align: right;\n",
       "    }\n",
       "</style>\n",
       "<table border=\"1\" class=\"dataframe\">\n",
       "  <thead>\n",
       "    <tr style=\"text-align: right;\">\n",
       "      <th></th>\n",
       "      <th>exp_group</th>\n",
       "      <th>user_id</th>\n",
       "      <th>likes</th>\n",
       "      <th>views</th>\n",
       "      <th>ctr</th>\n",
       "    </tr>\n",
       "  </thead>\n",
       "  <tbody>\n",
       "    <tr>\n",
       "      <th>0</th>\n",
       "      <td>3</td>\n",
       "      <td>115383</td>\n",
       "      <td>11</td>\n",
       "      <td>36</td>\n",
       "      <td>0.305556</td>\n",
       "    </tr>\n",
       "    <tr>\n",
       "      <th>1</th>\n",
       "      <td>3</td>\n",
       "      <td>123580</td>\n",
       "      <td>15</td>\n",
       "      <td>92</td>\n",
       "      <td>0.163043</td>\n",
       "    </tr>\n",
       "    <tr>\n",
       "      <th>2</th>\n",
       "      <td>2</td>\n",
       "      <td>131473</td>\n",
       "      <td>26</td>\n",
       "      <td>148</td>\n",
       "      <td>0.175676</td>\n",
       "    </tr>\n",
       "    <tr>\n",
       "      <th>3</th>\n",
       "      <td>2</td>\n",
       "      <td>23985</td>\n",
       "      <td>12</td>\n",
       "      <td>66</td>\n",
       "      <td>0.181818</td>\n",
       "    </tr>\n",
       "    <tr>\n",
       "      <th>4</th>\n",
       "      <td>2</td>\n",
       "      <td>24523</td>\n",
       "      <td>17</td>\n",
       "      <td>120</td>\n",
       "      <td>0.141667</td>\n",
       "    </tr>\n",
       "  </tbody>\n",
       "</table>\n",
       "</div>"
      ],
      "text/plain": [
       "   exp_group  user_id  likes  views       ctr\n",
       "0          3   115383     11     36  0.305556\n",
       "1          3   123580     15     92  0.163043\n",
       "2          2   131473     26    148  0.175676\n",
       "3          2    23985     12     66  0.181818\n",
       "4          2    24523     17    120  0.141667"
      ]
     },
     "execution_count": 30,
     "metadata": {},
     "output_type": "execute_result"
    }
   ],
   "source": [
    "df.head(5)"
   ]
  },
  {
   "cell_type": "code",
   "execution_count": 31,
   "id": "f2ec5334-ad51-4626-b359-bf0f865727a2",
   "metadata": {},
   "outputs": [
    {
     "data": {
      "text/html": [
       "<div>\n",
       "<style scoped>\n",
       "    .dataframe tbody tr th:only-of-type {\n",
       "        vertical-align: middle;\n",
       "    }\n",
       "\n",
       "    .dataframe tbody tr th {\n",
       "        vertical-align: top;\n",
       "    }\n",
       "\n",
       "    .dataframe thead th {\n",
       "        text-align: right;\n",
       "    }\n",
       "</style>\n",
       "<table border=\"1\" class=\"dataframe\">\n",
       "  <thead>\n",
       "    <tr style=\"text-align: right;\">\n",
       "      <th></th>\n",
       "      <th>user_id</th>\n",
       "      <th>likes</th>\n",
       "      <th>views</th>\n",
       "      <th>ctr</th>\n",
       "    </tr>\n",
       "    <tr>\n",
       "      <th>exp_group</th>\n",
       "      <th></th>\n",
       "      <th></th>\n",
       "      <th></th>\n",
       "      <th></th>\n",
       "    </tr>\n",
       "  </thead>\n",
       "  <tbody>\n",
       "    <tr>\n",
       "      <th>2</th>\n",
       "      <td>8480</td>\n",
       "      <td>8480</td>\n",
       "      <td>8480</td>\n",
       "      <td>8480</td>\n",
       "    </tr>\n",
       "    <tr>\n",
       "      <th>3</th>\n",
       "      <td>8569</td>\n",
       "      <td>8569</td>\n",
       "      <td>8569</td>\n",
       "      <td>8569</td>\n",
       "    </tr>\n",
       "  </tbody>\n",
       "</table>\n",
       "</div>"
      ],
      "text/plain": [
       "           user_id  likes  views   ctr\n",
       "exp_group                             \n",
       "2             8480   8480   8480  8480\n",
       "3             8569   8569   8569  8569"
      ]
     },
     "execution_count": 31,
     "metadata": {},
     "output_type": "execute_result"
    }
   ],
   "source": [
    "df.groupby('exp_group').count()"
   ]
  },
  {
   "cell_type": "markdown",
   "id": "e9e6bba5-bb0e-4b03-8f84-a59a19c3bc3a",
   "metadata": {},
   "source": [
    "Как видно из таблицы, количество юзеров в двух группах примерно одинаковое"
   ]
  },
  {
   "cell_type": "code",
   "execution_count": 66,
   "id": "dab387a6-ab86-4552-856f-f8c33b2ee879",
   "metadata": {},
   "outputs": [
    {
     "data": {
      "text/plain": [
       "<AxesSubplot:xlabel='ctr', ylabel='Count'>"
      ]
     },
     "execution_count": 66,
     "metadata": {},
     "output_type": "execute_result"
    },
    {
     "data": {
      "image/png": "[encoded data removed]",
      "text/plain": [
       "<Figure size 842.4x595.44 with 1 Axes>"
      ]
     },
     "metadata": {},
     "output_type": "display_data"
    }
   ],
   "source": [
    "sns.set(rc={'figure.figsize':(11.7,8.27)})\n",
    "\n",
    "sns.histplot(data = df, \n",
    "              x='ctr', \n",
    "              hue='exp_group', \n",
    "              palette = ['r', 'b'],\n",
    "              alpha=0.5,\n",
    "              kde=False)"
   ]
  },
  {
   "cell_type": "markdown",
   "id": "34a07f21-f5f7-44fc-87c6-76565651f24d",
   "metadata": {},
   "source": [
    "На основании полученной гистограммы, можно сделать вывод, что распределение значений CTR для двух групп примерно одинаковое."
   ]
  },
  {
   "cell_type": "markdown",
   "id": "4544a862-16a8-4392-a522-250fe21fa283",
   "metadata": {},
   "source": [
    "### 4. Проведём t-тест для сравнения наших выборок."
   ]
  },
  {
   "cell_type": "code",
   "execution_count": 33,
   "id": "7f4e51bc-6e1a-476a-8c90-eaedc5cfe8b4",
   "metadata": {},
   "outputs": [
    {
     "data": {
      "text/plain": [
       "Ttest_indResult(statistic=-0.7393597924958364, pvalue=0.45969873156476293)"
      ]
     },
     "execution_count": 33,
     "metadata": {},
     "output_type": "execute_result"
    }
   ],
   "source": [
    "stats.ttest_ind(df[df.exp_group == 2].ctr,\n",
    "                df[df.exp_group == 3].ctr,\n",
    "                equal_var=False)"
   ]
  },
  {
   "cell_type": "markdown",
   "id": "26a2e5b3-8598-40e7-a00d-1acd52d04008",
   "metadata": {},
   "source": [
    "Как видно из значения pvalue, наши группы одинаковы"
   ]
  },
  {
   "cell_type": "markdown",
   "id": "647c098b-1eb6-43d1-a440-a963df2c15a3",
   "metadata": {},
   "source": [
    "#### 4.1 Также проверим наши выборки с помощью теста Мана-Уитни"
   ]
  },
  {
   "cell_type": "code",
   "execution_count": 65,
   "id": "86d504b6-35cc-47a2-9ace-161e07b92090",
   "metadata": {},
   "outputs": [
    {
     "data": {
      "text/plain": [
       "MannwhitneyuResult(statistic=36540391.5, pvalue=0.5177480614337441)"
      ]
     },
     "execution_count": 65,
     "metadata": {},
     "output_type": "execute_result"
    }
   ],
   "source": [
    "stats.mannwhitneyu(df[df.exp_group == 3].ctr, \n",
    "                   df[df.exp_group == 2].ctr,\n",
    "                   alternative = 'two-sided')"
   ]
  },
  {
   "cell_type": "markdown",
   "id": "2b00b6bb-c50b-4df5-8af9-bb3bb6037f19",
   "metadata": {},
   "source": [
    "Значение p-value говорит о равенстве групп"
   ]
  },
  {
   "cell_type": "markdown",
   "id": "22a206af-df7b-41b8-98b8-744f3b121f21",
   "metadata": {},
   "source": [
    "### 5. Сформируем подвыборки размером 500 без повторений и проведём АА-тест 10000 раз. Построим гистограмму распределения значений p-value."
   ]
  },
  {
   "cell_type": "code",
   "execution_count": 67,
   "id": "19f7434a-269d-4c9c-9913-32a83981fc9e",
   "metadata": {},
   "outputs": [],
   "source": [
    "p_values = []"
   ]
  },
  {
   "cell_type": "code",
   "execution_count": 68,
   "id": "dbb5fea6-a3a6-416e-abff-9b9d23112218",
   "metadata": {},
   "outputs": [],
   "source": [
    "for i in range(10000):\n",
    "    p_values.append(stats.ttest_ind(df[df.exp_group == 2].ctr.sample(500),\n",
    "                                    df[df.exp_group == 3].ctr.sample(500),\n",
    "                                    equal_var=False)[1]) "
   ]
  },
  {
   "cell_type": "code",
   "execution_count": 69,
   "id": "9ddbd1bd-dc68-45dc-b2f4-27d2b623c1b1",
   "metadata": {},
   "outputs": [
    {
     "data": {
      "text/plain": [
       "Text(0.5, 0, 'p_value')"
      ]
     },
     "execution_count": 69,
     "metadata": {},
     "output_type": "execute_result"
    },
    {
     "data": {
      "image/png": "[encoded data removed]",
      "text/plain": [
       "<Figure size 842.4x595.44 with 1 Axes>"
      ]
     },
     "metadata": {},
     "output_type": "display_data"
    }
   ],
   "source": [
    "pvalue_hist = sns.histplot(data = p_values,  bins=20) \n",
    "pvalue_hist.set_title('p_value distribution')\n",
    "pvalue_hist.set_xlabel('p_value')"
   ]
  },
  {
   "cell_type": "markdown",
   "id": "52b960d8-53ba-4829-aecd-ef100b829af3",
   "metadata": {},
   "source": [
    "Определим процент тестов, в которых значение p-value было меньше 0.05"
   ]
  },
  {
   "cell_type": "code",
   "execution_count": 71,
   "id": "aec5b7b5-3d5e-4c84-9628-c6c2d3a9d455",
   "metadata": {},
   "outputs": [
    {
     "name": "stdout",
     "output_type": "stream",
     "text": [
      "Процент p-values со значениями меньше 0.05 : 4.56%\n"
     ]
    }
   ],
   "source": [
    "share = 0\n",
    "for i in p_values:\n",
    "    if (i <= 0.05):\n",
    "        share += 1\n",
    "\n",
    "print('Процент p-values со значениями меньше 0.05 : {:.2%}'.format(share/len(p_values)))"
   ]
  },
  {
   "cell_type": "markdown",
   "id": "245f4d9e-e7a5-40e4-b800-95c6363311a9",
   "metadata": {},
   "source": [
    "**Вывод. В 4.56% случаев мы получили значение p-value меньше 0.05. То есть, наша система сплитования работает корректно. Мы можем подтвердить гипотезу, что наши выборки равны между собой. Тот факт, что полученный процент p-value, близок к допустимому значению в 5% можно объяснить относительно небольшим размером выборок (500 из 8500), небольшим сроком проведения эксперимента (7 дней), тем, что распределение CTR  в наших группах отличается от нормального. Либо, статистически значимые различия между двумя группами встречались только в результате случайного ложного срабатывания.**"
   ]
  }
 ],
 "metadata": {
  "kernelspec": {
   "display_name": "Python 3 (ipykernel)",
   "language": "python",
   "name": "python3"
  },
  "language_info": {
   "codemirror_mode": {
    "name": "ipython",
    "version": 3
   },
   "file_extension": ".py",
   "mimetype": "text/x-python",
   "name": "python",
   "nbconvert_exporter": "python",
   "pygments_lexer": "ipython3",
   "version": "3.8.10"
  }
 },
 "nbformat": 4,
 "nbformat_minor": 5
}
