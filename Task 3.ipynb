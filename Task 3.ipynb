{
 "cells": [
  {
   "cell_type": "markdown",
   "id": "0f5e2527-cae1-47c8-86da-2af22cbd4400",
   "metadata": {},
   "source": [
    "# Задание 3. Использование метрик линеаризованных лайков"
   ]
  },
  {
   "cell_type": "markdown",
   "id": "3920a390-0a63-451f-8c4e-e95f97b6c4f5",
   "metadata": {},
   "source": [
    "## Задание\n"
   ]
  },
  {
   "cell_type": "markdown",
   "id": "e9bae372-81ed-4c03-83d6-61cb78f77bec",
   "metadata": {},
   "source": [
    "* Проанализируйте тест между группами 0 и 3 по метрике линеаризованных лайков. Видно ли отличие? Стало ли 𝑝−𝑣𝑎𝑙𝑢𝑒 меньше?\n",
    "* Проанализируйте тест между группами 1 и 2 по метрике линеаризованных лайков. Видно ли отличие? Стало ли 𝑝−𝑣𝑎𝑙𝑢𝑒 меньше??"
   ]
  },
  {
   "cell_type": "markdown",
   "id": "6d3ca544-f6c8-4fe0-a6aa-ab0d429e6761",
   "metadata": {},
   "source": [
    "## Загружаем необходимые библиотеки. Выгрузим из нашей базы необходимые данные: юзеров, их просмотры, лайки, а также значение CTR."
   ]
  },
  {
   "cell_type": "code",
   "execution_count": 1,
   "id": "c025fb7b-da35-4816-a61a-656717cf2ce1",
   "metadata": {},
   "outputs": [],
   "source": [
    "import pandahouse\n",
    "import pandas as pd\n",
    "import numpy as np\n",
    "import matplotlib.pyplot as plt\n",
    "import seaborn as sns\n",
    "import hashlib \n",
    "from scipy import stats # статистика\n",
    "%matplotlib inline\n",
    "sns.set()"
   ]
  },
  {
   "cell_type": "code",
   "execution_count": 2,
   "id": "9854313d-4055-4b26-85b7-926776dcca77",
   "metadata": {},
   "outputs": [],
   "source": [
    "connection = {\n",
    "    'host': 'https://clickhouse.lab.karpov.courses',\n",
    "    'password': 'dpo_python_2020',\n",
    "    'user': 'student',\n",
    "    'database': 'simulator_20220920'\n",
    "}\n",
    "\n",
    "q = \"\"\"\n",
    "SELECT exp_group, \n",
    "    user_id,\n",
    "    sum(action = 'like') as likes,\n",
    "    sum(action = 'view') as views,\n",
    "    likes/views as ctr\n",
    "FROM {db}.feed_actions \n",
    "WHERE toDate(time) between '2022-09-03' and '2022-09-09'\n",
    "GROUP BY exp_group, user_id\n",
    "\"\"\"\n",
    "\n",
    "df = pandahouse.read_clickhouse(q, connection=connection)"
   ]
  },
  {
   "cell_type": "code",
   "execution_count": 3,
   "id": "51b46cb6-7839-4e2b-b218-8ee2163dd482",
   "metadata": {},
   "outputs": [
    {
     "data": {
      "text/html": [
       "<div>\n",
       "<style scoped>\n",
       "    .dataframe tbody tr th:only-of-type {\n",
       "        vertical-align: middle;\n",
       "    }\n",
       "\n",
       "    .dataframe tbody tr th {\n",
       "        vertical-align: top;\n",
       "    }\n",
       "\n",
       "    .dataframe thead th {\n",
       "        text-align: right;\n",
       "    }\n",
       "</style>\n",
       "<table border=\"1\" class=\"dataframe\">\n",
       "  <thead>\n",
       "    <tr style=\"text-align: right;\">\n",
       "      <th></th>\n",
       "      <th>exp_group</th>\n",
       "      <th>user_id</th>\n",
       "      <th>likes</th>\n",
       "      <th>views</th>\n",
       "      <th>ctr</th>\n",
       "    </tr>\n",
       "  </thead>\n",
       "  <tbody>\n",
       "    <tr>\n",
       "      <th>0</th>\n",
       "      <td>3</td>\n",
       "      <td>115383</td>\n",
       "      <td>9</td>\n",
       "      <td>30</td>\n",
       "      <td>0.300000</td>\n",
       "    </tr>\n",
       "    <tr>\n",
       "      <th>1</th>\n",
       "      <td>1</td>\n",
       "      <td>18392</td>\n",
       "      <td>7</td>\n",
       "      <td>32</td>\n",
       "      <td>0.218750</td>\n",
       "    </tr>\n",
       "    <tr>\n",
       "      <th>2</th>\n",
       "      <td>2</td>\n",
       "      <td>131473</td>\n",
       "      <td>14</td>\n",
       "      <td>134</td>\n",
       "      <td>0.104478</td>\n",
       "    </tr>\n",
       "    <tr>\n",
       "      <th>3</th>\n",
       "      <td>3</td>\n",
       "      <td>123580</td>\n",
       "      <td>13</td>\n",
       "      <td>48</td>\n",
       "      <td>0.270833</td>\n",
       "    </tr>\n",
       "    <tr>\n",
       "      <th>4</th>\n",
       "      <td>4</td>\n",
       "      <td>107323</td>\n",
       "      <td>5</td>\n",
       "      <td>31</td>\n",
       "      <td>0.161290</td>\n",
       "    </tr>\n",
       "  </tbody>\n",
       "</table>\n",
       "</div>"
      ],
      "text/plain": [
       "   exp_group  user_id  likes  views       ctr\n",
       "0          3   115383      9     30  0.300000\n",
       "1          1    18392      7     32  0.218750\n",
       "2          2   131473     14    134  0.104478\n",
       "3          3   123580     13     48  0.270833\n",
       "4          4   107323      5     31  0.161290"
      ]
     },
     "execution_count": 3,
     "metadata": {},
     "output_type": "execute_result"
    }
   ],
   "source": [
    "df.head()"
   ]
  },
  {
   "cell_type": "markdown",
   "id": "b08861ad-c873-4112-b11f-4c1d69fc492c",
   "metadata": {},
   "source": [
    "### Разделим наш датафрейм на два. В одном будут юзеры из контрольной группы 0 и тестовой 3. Во втором датафрейме будут юзеры из контрольной группы 1 и тестовой 2."
   ]
  },
  {
   "cell_type": "code",
   "execution_count": 56,
   "id": "1372ffff-fc52-4c38-aca8-b975e0d235c8",
   "metadata": {},
   "outputs": [],
   "source": [
    "df0_3 = df[(df.exp_group == 0) | (df.exp_group == 3)].copy()\n",
    "df1_2 = df[(df.exp_group == 1) | (df.exp_group == 2)].copy()"
   ]
  },
  {
   "cell_type": "code",
   "execution_count": 57,
   "id": "65acb2e5-c477-4eb6-8c34-12231c9ed531",
   "metadata": {},
   "outputs": [
    {
     "data": {
      "text/html": [
       "<div>\n",
       "<style scoped>\n",
       "    .dataframe tbody tr th:only-of-type {\n",
       "        vertical-align: middle;\n",
       "    }\n",
       "\n",
       "    .dataframe tbody tr th {\n",
       "        vertical-align: top;\n",
       "    }\n",
       "\n",
       "    .dataframe thead th {\n",
       "        text-align: right;\n",
       "    }\n",
       "</style>\n",
       "<table border=\"1\" class=\"dataframe\">\n",
       "  <thead>\n",
       "    <tr style=\"text-align: right;\">\n",
       "      <th></th>\n",
       "      <th>exp_group</th>\n",
       "      <th>user_id</th>\n",
       "      <th>likes</th>\n",
       "      <th>views</th>\n",
       "      <th>ctr</th>\n",
       "    </tr>\n",
       "  </thead>\n",
       "  <tbody>\n",
       "    <tr>\n",
       "      <th>0</th>\n",
       "      <td>3</td>\n",
       "      <td>115383</td>\n",
       "      <td>9</td>\n",
       "      <td>30</td>\n",
       "      <td>0.300000</td>\n",
       "    </tr>\n",
       "    <tr>\n",
       "      <th>3</th>\n",
       "      <td>3</td>\n",
       "      <td>123580</td>\n",
       "      <td>13</td>\n",
       "      <td>48</td>\n",
       "      <td>0.270833</td>\n",
       "    </tr>\n",
       "    <tr>\n",
       "      <th>7</th>\n",
       "      <td>0</td>\n",
       "      <td>30319</td>\n",
       "      <td>21</td>\n",
       "      <td>110</td>\n",
       "      <td>0.190909</td>\n",
       "    </tr>\n",
       "    <tr>\n",
       "      <th>9</th>\n",
       "      <td>3</td>\n",
       "      <td>118359</td>\n",
       "      <td>7</td>\n",
       "      <td>38</td>\n",
       "      <td>0.184211</td>\n",
       "    </tr>\n",
       "    <tr>\n",
       "      <th>11</th>\n",
       "      <td>0</td>\n",
       "      <td>7626</td>\n",
       "      <td>14</td>\n",
       "      <td>39</td>\n",
       "      <td>0.358974</td>\n",
       "    </tr>\n",
       "  </tbody>\n",
       "</table>\n",
       "</div>"
      ],
      "text/plain": [
       "    exp_group  user_id  likes  views       ctr\n",
       "0           3   115383      9     30  0.300000\n",
       "3           3   123580     13     48  0.270833\n",
       "7           0    30319     21    110  0.190909\n",
       "9           3   118359      7     38  0.184211\n",
       "11          0     7626     14     39  0.358974"
      ]
     },
     "execution_count": 57,
     "metadata": {},
     "output_type": "execute_result"
    }
   ],
   "source": [
    "df0_3.head()"
   ]
  },
  {
   "cell_type": "code",
   "execution_count": 58,
   "id": "e7bb36f0-e9fe-4071-84bc-77023adbb541",
   "metadata": {},
   "outputs": [
    {
     "data": {
      "text/html": [
       "<div>\n",
       "<style scoped>\n",
       "    .dataframe tbody tr th:only-of-type {\n",
       "        vertical-align: middle;\n",
       "    }\n",
       "\n",
       "    .dataframe tbody tr th {\n",
       "        vertical-align: top;\n",
       "    }\n",
       "\n",
       "    .dataframe thead th {\n",
       "        text-align: right;\n",
       "    }\n",
       "</style>\n",
       "<table border=\"1\" class=\"dataframe\">\n",
       "  <thead>\n",
       "    <tr style=\"text-align: right;\">\n",
       "      <th></th>\n",
       "      <th>exp_group</th>\n",
       "      <th>user_id</th>\n",
       "      <th>likes</th>\n",
       "      <th>views</th>\n",
       "      <th>ctr</th>\n",
       "    </tr>\n",
       "  </thead>\n",
       "  <tbody>\n",
       "    <tr>\n",
       "      <th>1</th>\n",
       "      <td>1</td>\n",
       "      <td>18392</td>\n",
       "      <td>7</td>\n",
       "      <td>32</td>\n",
       "      <td>0.218750</td>\n",
       "    </tr>\n",
       "    <tr>\n",
       "      <th>2</th>\n",
       "      <td>2</td>\n",
       "      <td>131473</td>\n",
       "      <td>14</td>\n",
       "      <td>134</td>\n",
       "      <td>0.104478</td>\n",
       "    </tr>\n",
       "    <tr>\n",
       "      <th>5</th>\n",
       "      <td>2</td>\n",
       "      <td>32420</td>\n",
       "      <td>26</td>\n",
       "      <td>128</td>\n",
       "      <td>0.203125</td>\n",
       "    </tr>\n",
       "    <tr>\n",
       "      <th>6</th>\n",
       "      <td>2</td>\n",
       "      <td>24239</td>\n",
       "      <td>40</td>\n",
       "      <td>90</td>\n",
       "      <td>0.444444</td>\n",
       "    </tr>\n",
       "    <tr>\n",
       "      <th>8</th>\n",
       "      <td>1</td>\n",
       "      <td>27443</td>\n",
       "      <td>2</td>\n",
       "      <td>29</td>\n",
       "      <td>0.068966</td>\n",
       "    </tr>\n",
       "  </tbody>\n",
       "</table>\n",
       "</div>"
      ],
      "text/plain": [
       "   exp_group  user_id  likes  views       ctr\n",
       "1          1    18392      7     32  0.218750\n",
       "2          2   131473     14    134  0.104478\n",
       "5          2    32420     26    128  0.203125\n",
       "6          2    24239     40     90  0.444444\n",
       "8          1    27443      2     29  0.068966"
      ]
     },
     "execution_count": 58,
     "metadata": {},
     "output_type": "execute_result"
    }
   ],
   "source": [
    "df1_2.head()"
   ]
  },
  {
   "cell_type": "markdown",
   "id": "ce4e10aa-c4b0-48d1-98ac-a34617279634",
   "metadata": {},
   "source": [
    "### Считаем общий CTR в для контрольной группы 0  𝐶𝑇𝑅𝑐𝑜𝑛𝑡𝑟𝑜𝑙=𝑠𝑢𝑚(𝑙𝑖𝑘𝑒𝑠)/𝑠𝑢𝑚(𝑣𝑖𝑒𝑤𝑠)"
   ]
  },
  {
   "cell_type": "code",
   "execution_count": 73,
   "id": "d849fbec-4e79-4fd3-93c2-e3e84ba392a3",
   "metadata": {},
   "outputs": [],
   "source": [
    "CTRcontrol_0 = df0_3[df0_3.exp_group == 0].likes.sum()/df0_3[df0_3.exp_group == 0].views.sum()\n"
   ]
  },
  {
   "cell_type": "code",
   "execution_count": 77,
   "id": "0a72f57b-7bc1-45ff-92db-0c1c68651ac6",
   "metadata": {},
   "outputs": [
    {
     "data": {
      "text/plain": [
       "0.20802680490126244"
      ]
     },
     "execution_count": 77,
     "metadata": {},
     "output_type": "execute_result"
    }
   ],
   "source": [
    "CTRcontrol_1"
   ]
  },
  {
   "cell_type": "markdown",
   "id": "69314a48-db8a-446c-9833-6e6bbd18692d",
   "metadata": {},
   "source": [
    "### Рассчитаем показатель линеаризованных лайков для групп 0 и 3."
   ]
  },
  {
   "cell_type": "code",
   "execution_count": 60,
   "id": "46578ec5-9b24-4a3d-bb8c-248537fab7d6",
   "metadata": {},
   "outputs": [],
   "source": [
    "df0_3['linearized_likes'] = df0_3.likes - CTRcontrol_0 * df0_3.views"
   ]
  },
  {
   "cell_type": "code",
   "execution_count": 61,
   "id": "91073f01-43ff-4569-a3f1-524f90912ea2",
   "metadata": {},
   "outputs": [
    {
     "data": {
      "text/html": [
       "<div>\n",
       "<style scoped>\n",
       "    .dataframe tbody tr th:only-of-type {\n",
       "        vertical-align: middle;\n",
       "    }\n",
       "\n",
       "    .dataframe tbody tr th {\n",
       "        vertical-align: top;\n",
       "    }\n",
       "\n",
       "    .dataframe thead th {\n",
       "        text-align: right;\n",
       "    }\n",
       "</style>\n",
       "<table border=\"1\" class=\"dataframe\">\n",
       "  <thead>\n",
       "    <tr style=\"text-align: right;\">\n",
       "      <th></th>\n",
       "      <th>exp_group</th>\n",
       "      <th>user_id</th>\n",
       "      <th>likes</th>\n",
       "      <th>views</th>\n",
       "      <th>ctr</th>\n",
       "      <th>linearized_likes</th>\n",
       "    </tr>\n",
       "  </thead>\n",
       "  <tbody>\n",
       "    <tr>\n",
       "      <th>0</th>\n",
       "      <td>3</td>\n",
       "      <td>115383</td>\n",
       "      <td>9</td>\n",
       "      <td>30</td>\n",
       "      <td>0.300000</td>\n",
       "      <td>2.752916</td>\n",
       "    </tr>\n",
       "    <tr>\n",
       "      <th>3</th>\n",
       "      <td>3</td>\n",
       "      <td>123580</td>\n",
       "      <td>13</td>\n",
       "      <td>48</td>\n",
       "      <td>0.270833</td>\n",
       "      <td>3.004666</td>\n",
       "    </tr>\n",
       "    <tr>\n",
       "      <th>7</th>\n",
       "      <td>0</td>\n",
       "      <td>30319</td>\n",
       "      <td>21</td>\n",
       "      <td>110</td>\n",
       "      <td>0.190909</td>\n",
       "      <td>-1.905973</td>\n",
       "    </tr>\n",
       "    <tr>\n",
       "      <th>9</th>\n",
       "      <td>3</td>\n",
       "      <td>118359</td>\n",
       "      <td>7</td>\n",
       "      <td>38</td>\n",
       "      <td>0.184211</td>\n",
       "      <td>-0.912973</td>\n",
       "    </tr>\n",
       "    <tr>\n",
       "      <th>11</th>\n",
       "      <td>0</td>\n",
       "      <td>7626</td>\n",
       "      <td>14</td>\n",
       "      <td>39</td>\n",
       "      <td>0.358974</td>\n",
       "      <td>5.878791</td>\n",
       "    </tr>\n",
       "  </tbody>\n",
       "</table>\n",
       "</div>"
      ],
      "text/plain": [
       "    exp_group  user_id  likes  views       ctr  linearized_likes\n",
       "0           3   115383      9     30  0.300000          2.752916\n",
       "3           3   123580     13     48  0.270833          3.004666\n",
       "7           0    30319     21    110  0.190909         -1.905973\n",
       "9           3   118359      7     38  0.184211         -0.912973\n",
       "11          0     7626     14     39  0.358974          5.878791"
      ]
     },
     "execution_count": 61,
     "metadata": {},
     "output_type": "execute_result"
    }
   ],
   "source": [
    "df0_3.head()"
   ]
  },
  {
   "cell_type": "markdown",
   "id": "28355b21-a1db-4d70-a1f5-6d9d515f7731",
   "metadata": {},
   "source": [
    "### Построим гистограмму распределений значений CTR для групп 0 и 3, а затем гистограмму распределений линеаризованных лайков и сравним результат."
   ]
  },
  {
   "cell_type": "code",
   "execution_count": 62,
   "id": "c971b6c3-4311-4988-83f0-e714e5fdd0c6",
   "metadata": {},
   "outputs": [
    {
     "data": {
      "text/plain": [
       "<AxesSubplot:xlabel='ctr', ylabel='Count'>"
      ]
     },
     "execution_count": 62,
     "metadata": {},
     "output_type": "execute_result"
    },
    {
     "data": {
      "image/png": "[encoded data removed]",
      "text/plain": [
       "<Figure size 842.4x595.44 with 1 Axes>"
      ]
     },
     "metadata": {},
     "output_type": "display_data"
    }
   ],
   "source": [
    "sns.set(rc={'figure.figsize':(11.7,8.27)})\n",
    "\n",
    "sns.histplot(data = df0_3, \n",
    "              x='ctr', \n",
    "              hue='exp_group', \n",
    "              palette = ['r', 'b'],\n",
    "              alpha=0.5,\n",
    "              kde=False)"
   ]
  },
  {
   "cell_type": "code",
   "execution_count": 63,
   "id": "bbc1e9ac-dc85-43a1-b74d-a3930a9b5853",
   "metadata": {},
   "outputs": [
    {
     "data": {
      "text/plain": [
       "<AxesSubplot:xlabel='linearized_likes', ylabel='Count'>"
      ]
     },
     "execution_count": 63,
     "metadata": {},
     "output_type": "execute_result"
    },
    {
     "data": {
      "image/png": "[encoded data removed]",
      "text/plain": [
       "<Figure size 842.4x595.44 with 1 Axes>"
      ]
     },
     "metadata": {},
     "output_type": "display_data"
    }
   ],
   "source": [
    "sns.set(rc={'figure.figsize':(11.7,8.27)})\n",
    "\n",
    "sns.histplot(data = df0_3, \n",
    "              x='linearized_likes', \n",
    "              hue='exp_group', \n",
    "              palette = ['r', 'b'],\n",
    "              alpha=0.5,\n",
    "              kde=False)"
   ]
  },
  {
   "cell_type": "markdown",
   "id": "4e43a1b6-0567-4ac2-81e8-da2c727fa874",
   "metadata": {},
   "source": [
    "**Как видим, распределение CTR слегка скошено в левую сторону и имеет вытянутый хвост в правую сторону, в то время как распределение линеаризованных лайков близко к нормальному, без вытянутых хвостов и меньшим количеством выбросов.**"
   ]
  },
  {
   "cell_type": "markdown",
   "id": "922e1eba-099e-4573-ac2b-4a940581cf8f",
   "metadata": {},
   "source": [
    "### Проведем t-тест и тест Манна-Уитни сначала на CTR, а затем на линеаризованных лайках для групп 0 и 3 и сравним результаты."
   ]
  },
  {
   "cell_type": "markdown",
   "id": "15d5c0e3-a46f-4bf5-8527-dd5a33f29421",
   "metadata": {},
   "source": [
    "**T-Тест для CTR.**"
   ]
  },
  {
   "cell_type": "code",
   "execution_count": 68,
   "id": "164b6f55-f8f1-4de1-9ccd-9fb24f29949b",
   "metadata": {},
   "outputs": [
    {
     "name": "stdout",
     "output_type": "stream",
     "text": [
      "p-value = 1.055849414662529e-43\n",
      "Разница между средними значениями CTR групп 0 и 3 статистически значимая.\n"
     ]
    }
   ],
   "source": [
    "t_test = stats.ttest_ind(df0_3[df0_3.exp_group == 0].ctr,\n",
    "                df0_3[df0_3.exp_group == 3].ctr,\n",
    "                equal_var=False)[1]\n",
    "print('p-value =',t_test)\n",
    "if t_test < 0.05:\n",
    "    print(\"Разница между средними значениями CTR групп 0 и 3 статистически значимая.\")\n",
    "else:     \n",
    "    print(\"Между средними значениями CTR групп 0 и 3 отстутствует статистически значимая разница.\")\n"
   ]
  },
  {
   "cell_type": "markdown",
   "id": "e72d7bb5-0d51-482f-a8f2-7aa1d5fbe1e3",
   "metadata": {},
   "source": [
    "**Тест Манна-Уитни для CTR.**"
   ]
  },
  {
   "cell_type": "code",
   "execution_count": 70,
   "id": "01e1c350-f712-4a3c-b237-e8913437dcc7",
   "metadata": {},
   "outputs": [
    {
     "name": "stdout",
     "output_type": "stream",
     "text": [
      "p-value = 1.1952055473582936e-57\n",
      "Разница между средними значениями CTR групп 0 и 3 статистически значимая.\n"
     ]
    }
   ],
   "source": [
    "t_testmw = stats.mannwhitneyu(df0_3[df0_3.exp_group == 0].ctr,\n",
    "                df0_3[df0_3.exp_group == 3].ctr,\n",
    "                alternative='two-sided')[1]\n",
    "print('p-value = {}'.format(t_testmw))\n",
    "if t_testmw < 0.05:\n",
    "    print(\"Разница между средними значениями CTR групп 0 и 3 статистически значимая.\")\n",
    "else:     \n",
    "    print(\"Между средними значениями CTR групп 0 и 3 отстутствует статистически значимая разница.\")"
   ]
  },
  {
   "cell_type": "markdown",
   "id": "26d73f4c-fe92-4076-8630-b413461d6e72",
   "metadata": {},
   "source": [
    "**T-Тест для линеаризованных лайков.**"
   ]
  },
  {
   "cell_type": "code",
   "execution_count": 69,
   "id": "fc4a5857-18c5-4900-9683-a3dca58150c5",
   "metadata": {},
   "outputs": [
    {
     "name": "stdout",
     "output_type": "stream",
     "text": [
      "p-value = 5.4914249479690016e-52\n",
      "Разница между средними значениями CTR групп 0 и 3 статистически значимая.\n"
     ]
    }
   ],
   "source": [
    "t_test = stats.ttest_ind(df0_3[df0_3.exp_group == 0].linearized_likes,\n",
    "                df0_3[df0_3.exp_group == 3].linearized_likes,\n",
    "                equal_var=False)[1]\n",
    "print('p-value =',t_test)\n",
    "if t_test < 0.05:\n",
    "    print(\"Разница между средними значениями CTR групп 0 и 3 статистически значимая.\")\n",
    "else:     \n",
    "    print(\"Между средними значениями CTR групп 0 и 3 отстутствует статистически значимая разница.\")\n"
   ]
  },
  {
   "cell_type": "markdown",
   "id": "5718e832-83a2-477d-b9a4-c12952bee814",
   "metadata": {},
   "source": [
    "**Тест Манна-Уитни для линеаризованных лайков.**"
   ]
  },
  {
   "cell_type": "code",
   "execution_count": 71,
   "id": "fc2a7517-8621-41bb-9092-520c5950b8ca",
   "metadata": {},
   "outputs": [
    {
     "name": "stdout",
     "output_type": "stream",
     "text": [
      "p-value = 1.1517315029786597e-63\n",
      "Разница между средними значениями CTR групп 0 и 3 статистически значимая.\n"
     ]
    }
   ],
   "source": [
    "t_testmw = stats.mannwhitneyu(df0_3[df0_3.exp_group == 0].linearized_likes,\n",
    "                df0_3[df0_3.exp_group == 3].linearized_likes,\n",
    "                alternative='two-sided')[1]\n",
    "print('p-value = {}'.format(t_testmw))\n",
    "if t_testmw < 0.05:\n",
    "    print(\"Разница между средними значениями CTR групп 0 и 3 статистически значимая.\")\n",
    "else:     \n",
    "    print(\"Между средними значениями CTR групп 0 и 3 отстутствует статистически значимая разница.\")"
   ]
  },
  {
   "cell_type": "markdown",
   "id": "89a83d14-e4f4-49b6-a686-c1e60ef03bde",
   "metadata": {},
   "source": [
    "**Оба теста, проведенные на метриках CTR и линеаризованных лайках, подтверждают статистически значимую разницу между группами. При этом значения p-value стали ещё меньше при использовании новой метрики linearized likes. Возможно, это связано с тем, что новая метрика имеет распределение, близкое к нормальному.**"
   ]
  },
  {
   "cell_type": "markdown",
   "id": "a2e4c0b4-011e-4c4c-baf6-74f568985120",
   "metadata": {},
   "source": [
    "### Сравним между собой группы 1 и 2"
   ]
  },
  {
   "cell_type": "markdown",
   "id": "fc622227-2190-4b13-8983-b7c7cbb71412",
   "metadata": {},
   "source": [
    "#### Рассчитаем глобальный CTR контрольной группы 1"
   ]
  },
  {
   "cell_type": "code",
   "execution_count": 75,
   "id": "cd49e3e5-88ee-45e3-93fa-72b9bf30ca95",
   "metadata": {},
   "outputs": [],
   "source": [
    "CTRcontrol_1 = df1_2[df1_2.exp_group == 1].likes.sum()/df1_2[df1_2.exp_group == 1].views.sum()"
   ]
  },
  {
   "cell_type": "code",
   "execution_count": 76,
   "id": "fe561628-623f-4945-844f-d1e04de5ab9c",
   "metadata": {},
   "outputs": [
    {
     "data": {
      "text/plain": [
       "0.20802680490126244"
      ]
     },
     "execution_count": 76,
     "metadata": {},
     "output_type": "execute_result"
    }
   ],
   "source": [
    "CTRcontrol_1"
   ]
  },
  {
   "cell_type": "markdown",
   "id": "07d70a56-f733-44f8-9958-643ba6c432c6",
   "metadata": {
    "tags": []
   },
   "source": [
    "#### Рассчитаем показатель линеаризованных лайков для групп 1 и 2."
   ]
  },
  {
   "cell_type": "code",
   "execution_count": 78,
   "id": "f8a92d26-71e9-4feb-beaf-683569198149",
   "metadata": {},
   "outputs": [],
   "source": [
    "df1_2['linearized_likes'] = df1_2.likes - CTRcontrol_0 * df1_2.views"
   ]
  },
  {
   "cell_type": "code",
   "execution_count": 80,
   "id": "64bc9265-d705-49f3-969b-fda7a03c051c",
   "metadata": {},
   "outputs": [
    {
     "data": {
      "text/html": [
       "<div>\n",
       "<style scoped>\n",
       "    .dataframe tbody tr th:only-of-type {\n",
       "        vertical-align: middle;\n",
       "    }\n",
       "\n",
       "    .dataframe tbody tr th {\n",
       "        vertical-align: top;\n",
       "    }\n",
       "\n",
       "    .dataframe thead th {\n",
       "        text-align: right;\n",
       "    }\n",
       "</style>\n",
       "<table border=\"1\" class=\"dataframe\">\n",
       "  <thead>\n",
       "    <tr style=\"text-align: right;\">\n",
       "      <th></th>\n",
       "      <th>exp_group</th>\n",
       "      <th>user_id</th>\n",
       "      <th>likes</th>\n",
       "      <th>views</th>\n",
       "      <th>ctr</th>\n",
       "      <th>linearized_likes</th>\n",
       "    </tr>\n",
       "  </thead>\n",
       "  <tbody>\n",
       "    <tr>\n",
       "      <th>1</th>\n",
       "      <td>1</td>\n",
       "      <td>18392</td>\n",
       "      <td>7</td>\n",
       "      <td>32</td>\n",
       "      <td>0.218750</td>\n",
       "      <td>0.336444</td>\n",
       "    </tr>\n",
       "    <tr>\n",
       "      <th>2</th>\n",
       "      <td>2</td>\n",
       "      <td>131473</td>\n",
       "      <td>14</td>\n",
       "      <td>134</td>\n",
       "      <td>0.104478</td>\n",
       "      <td>-13.903640</td>\n",
       "    </tr>\n",
       "    <tr>\n",
       "      <th>5</th>\n",
       "      <td>2</td>\n",
       "      <td>32420</td>\n",
       "      <td>26</td>\n",
       "      <td>128</td>\n",
       "      <td>0.203125</td>\n",
       "      <td>-0.654224</td>\n",
       "    </tr>\n",
       "    <tr>\n",
       "      <th>6</th>\n",
       "      <td>2</td>\n",
       "      <td>24239</td>\n",
       "      <td>40</td>\n",
       "      <td>90</td>\n",
       "      <td>0.444444</td>\n",
       "      <td>21.258749</td>\n",
       "    </tr>\n",
       "    <tr>\n",
       "      <th>8</th>\n",
       "      <td>1</td>\n",
       "      <td>27443</td>\n",
       "      <td>2</td>\n",
       "      <td>29</td>\n",
       "      <td>0.068966</td>\n",
       "      <td>-4.038848</td>\n",
       "    </tr>\n",
       "  </tbody>\n",
       "</table>\n",
       "</div>"
      ],
      "text/plain": [
       "   exp_group  user_id  likes  views       ctr  linearized_likes\n",
       "1          1    18392      7     32  0.218750          0.336444\n",
       "2          2   131473     14    134  0.104478        -13.903640\n",
       "5          2    32420     26    128  0.203125         -0.654224\n",
       "6          2    24239     40     90  0.444444         21.258749\n",
       "8          1    27443      2     29  0.068966         -4.038848"
      ]
     },
     "execution_count": 80,
     "metadata": {},
     "output_type": "execute_result"
    }
   ],
   "source": [
    "df1_2.head()"
   ]
  },
  {
   "cell_type": "markdown",
   "id": "26d9f28a-d4f4-4369-b96c-c1c0414c7129",
   "metadata": {},
   "source": [
    "#### Построим гистограмму распределений значений CTR для групп 1 и 2, а затем гистограмму распределений линеаризованных лайков и сравним результат."
   ]
  },
  {
   "cell_type": "code",
   "execution_count": 79,
   "id": "d8a05bf6-5e99-41e5-882f-e67f4b6984dd",
   "metadata": {},
   "outputs": [
    {
     "data": {
      "text/html": [
       "<div>\n",
       "<style scoped>\n",
       "    .dataframe tbody tr th:only-of-type {\n",
       "        vertical-align: middle;\n",
       "    }\n",
       "\n",
       "    .dataframe tbody tr th {\n",
       "        vertical-align: top;\n",
       "    }\n",
       "\n",
       "    .dataframe thead th {\n",
       "        text-align: right;\n",
       "    }\n",
       "</style>\n",
       "<table border=\"1\" class=\"dataframe\">\n",
       "  <thead>\n",
       "    <tr style=\"text-align: right;\">\n",
       "      <th></th>\n",
       "      <th>exp_group</th>\n",
       "      <th>user_id</th>\n",
       "      <th>likes</th>\n",
       "      <th>views</th>\n",
       "      <th>ctr</th>\n",
       "      <th>linearized_likes</th>\n",
       "    </tr>\n",
       "  </thead>\n",
       "  <tbody>\n",
       "    <tr>\n",
       "      <th>1</th>\n",
       "      <td>1</td>\n",
       "      <td>18392</td>\n",
       "      <td>7</td>\n",
       "      <td>32</td>\n",
       "      <td>0.218750</td>\n",
       "      <td>0.336444</td>\n",
       "    </tr>\n",
       "    <tr>\n",
       "      <th>2</th>\n",
       "      <td>2</td>\n",
       "      <td>131473</td>\n",
       "      <td>14</td>\n",
       "      <td>134</td>\n",
       "      <td>0.104478</td>\n",
       "      <td>-13.903640</td>\n",
       "    </tr>\n",
       "    <tr>\n",
       "      <th>5</th>\n",
       "      <td>2</td>\n",
       "      <td>32420</td>\n",
       "      <td>26</td>\n",
       "      <td>128</td>\n",
       "      <td>0.203125</td>\n",
       "      <td>-0.654224</td>\n",
       "    </tr>\n",
       "    <tr>\n",
       "      <th>6</th>\n",
       "      <td>2</td>\n",
       "      <td>24239</td>\n",
       "      <td>40</td>\n",
       "      <td>90</td>\n",
       "      <td>0.444444</td>\n",
       "      <td>21.258749</td>\n",
       "    </tr>\n",
       "    <tr>\n",
       "      <th>8</th>\n",
       "      <td>1</td>\n",
       "      <td>27443</td>\n",
       "      <td>2</td>\n",
       "      <td>29</td>\n",
       "      <td>0.068966</td>\n",
       "      <td>-4.038848</td>\n",
       "    </tr>\n",
       "  </tbody>\n",
       "</table>\n",
       "</div>"
      ],
      "text/plain": [
       "   exp_group  user_id  likes  views       ctr  linearized_likes\n",
       "1          1    18392      7     32  0.218750          0.336444\n",
       "2          2   131473     14    134  0.104478        -13.903640\n",
       "5          2    32420     26    128  0.203125         -0.654224\n",
       "6          2    24239     40     90  0.444444         21.258749\n",
       "8          1    27443      2     29  0.068966         -4.038848"
      ]
     },
     "execution_count": 79,
     "metadata": {},
     "output_type": "execute_result"
    }
   ],
   "source": [
    "df1_2.head()"
   ]
  },
  {
   "cell_type": "code",
   "execution_count": 81,
   "id": "6d43c86b-2b3e-4f68-b8e1-2994c9c4801a",
   "metadata": {},
   "outputs": [
    {
     "data": {
      "text/plain": [
       "<AxesSubplot:xlabel='ctr', ylabel='Count'>"
      ]
     },
     "execution_count": 81,
     "metadata": {},
     "output_type": "execute_result"
    },
    {
     "data": {
      "image/png": "[encoded data removed]",
      "text/plain": [
       "<Figure size 842.4x595.44 with 1 Axes>"
      ]
     },
     "metadata": {},
     "output_type": "display_data"
    }
   ],
   "source": [
    "sns.set(rc={'figure.figsize':(11.7,8.27)})\n",
    "\n",
    "sns.histplot(data = df1_2, \n",
    "              x='ctr', \n",
    "              hue='exp_group', \n",
    "              palette = ['r', 'b'],\n",
    "              alpha=0.5,\n",
    "              kde=False)"
   ]
  },
  {
   "cell_type": "code",
   "execution_count": 82,
   "id": "72e667d5-301a-4aac-94a6-d85492a62272",
   "metadata": {},
   "outputs": [
    {
     "data": {
      "text/plain": [
       "<AxesSubplot:xlabel='linearized_likes', ylabel='Count'>"
      ]
     },
     "execution_count": 82,
     "metadata": {},
     "output_type": "execute_result"
    },
    {
     "data": {
      "image/png": "[encoded data removed]",
      "text/plain": [
       "<Figure size 842.4x595.44 with 1 Axes>"
      ]
     },
     "metadata": {},
     "output_type": "display_data"
    }
   ],
   "source": [
    "sns.set(rc={'figure.figsize':(11.7,8.27)})\n",
    "\n",
    "sns.histplot(data = df1_2, \n",
    "              x='linearized_likes', \n",
    "              hue='exp_group', \n",
    "              palette = ['r', 'b'],\n",
    "              alpha=0.5,\n",
    "              kde=False)"
   ]
  },
  {
   "cell_type": "markdown",
   "id": "30b4f798-ff1b-4536-87df-d7811d1ef4f4",
   "metadata": {},
   "source": [
    "**Как видно из графиков, распределение CTR для первой группы близко к нормальному, при этом слегка скошено в лево. Распределение CTR для второй группы является асимметиричны, бимодальным, с наличием хвоста в правую сторону. Распределение линеаризованных лайков отличается от CTR. Для первой группы распределение практически нормальное с наибольшим количеством значений в центре, без длинных хвостов и выбросов. Для группы 2 распределение осталось бимодальным, однако расстояние между двумя горбами сжалось, распределение стало не таким растянутым и скошенным. Обе вершины находятся практически в центре распределения с просадкой количества юзеров со значением линеаризованных лайков около 0.**"
   ]
  },
  {
   "cell_type": "markdown",
   "id": "087b5674-2325-433f-b6fb-2db5aa33880b",
   "metadata": {},
   "source": [
    "### Проведем t-тест и тест Манна-Уитни сначала на CTR, а затем на линеаризованных лайках для групп 1 и 2 и сравним результаты."
   ]
  },
  {
   "cell_type": "markdown",
   "id": "6a53a858-6233-4a4e-8824-c0a438ab4865",
   "metadata": {},
   "source": [
    "**T-Тест для CTR.**"
   ]
  },
  {
   "cell_type": "code",
   "execution_count": 85,
   "id": "879f5090-8688-4950-bcf9-ec8a2b5d40b5",
   "metadata": {},
   "outputs": [
    {
     "name": "stdout",
     "output_type": "stream",
     "text": [
      "p-value = 0.4780623130874935\n",
      "Между средними значениями CTR групп 1 и 2 отстутствует статистически значимая разница.\n"
     ]
    }
   ],
   "source": [
    "t_test = stats.ttest_ind(df1_2[df1_2.exp_group == 1].ctr,\n",
    "                df1_2[df1_2.exp_group == 2].ctr,\n",
    "                equal_var=False)[1]\n",
    "print('p-value =',t_test)\n",
    "if t_test < 0.05:\n",
    "    print(\"Разница между средними значениями CTR групп 1 и 2 статистически значимая.\")\n",
    "else:     \n",
    "    print(\"Между средними значениями CTR групп 1 и 2 отстутствует статистически значимая разница.\")"
   ]
  },
  {
   "cell_type": "markdown",
   "id": "cf3d54aa-b3cd-4dd4-a4de-cc07ba88abe8",
   "metadata": {},
   "source": [
    "**Тест Манна-Уитни для CTR.**"
   ]
  },
  {
   "cell_type": "code",
   "execution_count": 86,
   "id": "11d429c4-5b23-4b15-891a-d5a682f77658",
   "metadata": {},
   "outputs": [
    {
     "name": "stdout",
     "output_type": "stream",
     "text": [
      "p-value = 6.0376484617779035e-56\n",
      "Разница между средними значениями CTR групп 1 и 2 статистически значимая.\n"
     ]
    }
   ],
   "source": [
    "t_testmw = stats.mannwhitneyu(df1_2[df1_2.exp_group == 1].ctr,\n",
    "                df1_2[df1_2.exp_group == 2].ctr,\n",
    "                alternative='two-sided')[1]\n",
    "print('p-value = {}'.format(t_testmw))\n",
    "if t_testmw < 0.05:\n",
    "    print(\"Разница между средними значениями CTR групп 1 и 2 статистически значимая.\")\n",
    "else:     \n",
    "    print(\"Между средними значениями CTR групп 1 и 2 отстутствует статистически значимая разница.\")"
   ]
  },
  {
   "cell_type": "markdown",
   "id": "cb084887-51bd-409f-907e-2c2f67bbb474",
   "metadata": {},
   "source": [
    "**T-Тест для линеаризованных лайков.**"
   ]
  },
  {
   "cell_type": "code",
   "execution_count": 87,
   "id": "3e2f9227-ab25-4992-8c4c-21bce95142a1",
   "metadata": {},
   "outputs": [
    {
     "name": "stdout",
     "output_type": "stream",
     "text": [
      "p-value = 9.544973454280379e-10\n",
      "Разница между средними значениями CTR групп 1 и 2 статистически значимая.\n"
     ]
    }
   ],
   "source": [
    "t_test = stats.ttest_ind(df1_2[df1_2.exp_group == 1].linearized_likes,\n",
    "                df1_2[df1_2.exp_group == 2].linearized_likes,\n",
    "                equal_var=False)[1]\n",
    "print('p-value =',t_test)\n",
    "if t_test < 0.05:\n",
    "    print(\"Разница между средними значениями CTR групп 1 и 2 статистически значимая.\")\n",
    "else:     \n",
    "    print(\"Между средними значениями CTR групп 1 и 2 отстутствует статистически значимая разница.\")"
   ]
  },
  {
   "cell_type": "markdown",
   "id": "1e362d1e-0028-4a5e-a3db-ba9b0aa2416b",
   "metadata": {},
   "source": [
    "**Тест Манна-Уитни для линеаризованных лайков.**"
   ]
  },
  {
   "cell_type": "code",
   "execution_count": 88,
   "id": "3f2dda3f-5ba0-4f2e-ac26-91d4d5405a6d",
   "metadata": {},
   "outputs": [
    {
     "name": "stdout",
     "output_type": "stream",
     "text": [
      "p-value = 1.006515749432423e-26\n",
      "Разница между средними значениями CTR групп 1 и 2 статистически значимая.\n"
     ]
    }
   ],
   "source": [
    "t_testmw = stats.mannwhitneyu(df1_2[df1_2.exp_group == 1].linearized_likes,\n",
    "                df1_2[df1_2.exp_group == 2].linearized_likes,\n",
    "                alternative='two-sided')[1]\n",
    "print('p-value = {}'.format(t_testmw))\n",
    "if t_testmw < 0.05:\n",
    "    print(\"Разница между средними значениями CTR групп 1 и 2 статистически значимая.\")\n",
    "else:     \n",
    "    print(\"Между средними значениями CTR групп 1 и 2 отстутствует статистически значимая разница.\")"
   ]
  },
  {
   "cell_type": "markdown",
   "id": "7246999e-9997-401b-8ea1-f217eb992e94",
   "metadata": {},
   "source": [
    "**В отличие от t-теста, проведенного на CTR, тест на линеаризованных лайках показал наличие статистически значимой разницы между группами. Тест Манна-Уитни был утвердительным в обоих случаях. Изменения в t-тесте можно объяснить \"нормализацией\" распределения, уменьшением числа выбросов и дляны хвостов. Можно сделать вывод, что показатель линеаризованных лайков достаточно эффективен как метрика для наших тестов. Результаты тестирования совпадают с Пуассоновским бутстрепом, тестом Манна-Уитни и бакетнымм преобразованием для CTR и уменьшают риск влияния неравномерного распределения на t-тест.**"
   ]
  }
 ],
 "metadata": {
  "kernelspec": {
   "display_name": "Python 3 (ipykernel)",
   "language": "python",
   "name": "python3"
  },
  "language_info": {
   "codemirror_mode": {
    "name": "ipython",
    "version": 3
   },
   "file_extension": ".py",
   "mimetype": "text/x-python",
   "name": "python",
   "nbconvert_exporter": "python",
   "pygments_lexer": "ipython3",
   "version": "3.8.10"
  }
 },
 "nbformat": 4,
 "nbformat_minor": 5
}
