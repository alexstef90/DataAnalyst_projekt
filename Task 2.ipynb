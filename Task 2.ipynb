{
 "cells": [
  {
   "cell_type": "markdown",
   "id": "9fa00e28-20e8-42d8-a96d-065f8bda7761",
   "metadata": {},
   "source": [
    "# AB - тестирование"
   ]
  },
  {
   "cell_type": "markdown",
   "id": "2e089099-b253-45c9-8625-24a8bd7c2049",
   "metadata": {
    "tags": []
   },
   "source": [
    "# Задание\n",
    "   Эксперимент проходил с 2022-09-03 по 2022-09-09 включительно. Для эксперимента были задействованы 2 и 1 группы. В группе 2 был использован один из новых алгоритмов рекомендации постов (рекомендация постов, похожих на лайкнутые прежде), группа 1 использовалась в качестве контроля. \n",
    "   Основная гипотеза заключается в том, что новый алгоритм во 2-й группе приведет к увеличению CTR. \n",
    "Наша задача — проанализировать данные АB-теста. "
   ]
  },
  {
   "cell_type": "markdown",
   "id": "7ed31f56-a529-454b-9805-13b7df04985d",
   "metadata": {},
   "source": [
    "### Загрузим необходимые библиотеки. Выгрузим из нашей базы необходимые данные: юзеров 1 и 2 группы, их просмотры, лайки, а также значение CTR."
   ]
  },
  {
   "cell_type": "code",
   "execution_count": 1,
   "id": "99df9301-e065-4e60-a71a-d71f1a056421",
   "metadata": {},
   "outputs": [],
   "source": [
    "import pandahouse\n",
    "import pandas as pd\n",
    "import numpy as np\n",
    "import matplotlib.pyplot as plt\n",
    "import seaborn as sns\n",
    "import hashlib \n",
    "from scipy import stats # статистика\n",
    "%matplotlib inline\n",
    "sns.set()"
   ]
  },
  {
   "cell_type": "code",
   "execution_count": 2,
   "id": "ea669f29-d0b1-4110-a0e9-2f0b12a31bc4",
   "metadata": {},
   "outputs": [],
   "source": [
    "connection = {\n",
    "    'host': 'https://clickhouse.lab.karpov.courses',\n",
    "    'password': 'dpo_python_2020',\n",
    "    'user': 'student',\n",
    "    'database': 'simulator_20220920'\n",
    "}\n",
    "\n",
    "q = \"\"\"\n",
    "SELECT exp_group, \n",
    "    user_id,\n",
    "    sum(action = 'like') as likes,\n",
    "    sum(action = 'view') as views,\n",
    "    likes/views as ctr\n",
    "FROM {db}.feed_actions \n",
    "WHERE toDate(time) between '2022-09-03' and '2022-09-09'\n",
    "    and exp_group in (1,2)\n",
    "GROUP BY exp_group, user_id\n",
    "\"\"\"\n",
    "\n",
    "df = pandahouse.read_clickhouse(q, connection=connection)"
   ]
  },
  {
   "cell_type": "code",
   "execution_count": 3,
   "id": "7cc8d346-be7c-4aac-9ff3-f0971b1d7cae",
   "metadata": {},
   "outputs": [
    {
     "data": {
      "text/html": [
       "<div>\n",
       "<style scoped>\n",
       "    .dataframe tbody tr th:only-of-type {\n",
       "        vertical-align: middle;\n",
       "    }\n",
       "\n",
       "    .dataframe tbody tr th {\n",
       "        vertical-align: top;\n",
       "    }\n",
       "\n",
       "    .dataframe thead th {\n",
       "        text-align: right;\n",
       "    }\n",
       "</style>\n",
       "<table border=\"1\" class=\"dataframe\">\n",
       "  <thead>\n",
       "    <tr style=\"text-align: right;\">\n",
       "      <th></th>\n",
       "      <th>exp_group</th>\n",
       "      <th>user_id</th>\n",
       "      <th>likes</th>\n",
       "      <th>views</th>\n",
       "      <th>ctr</th>\n",
       "    </tr>\n",
       "  </thead>\n",
       "  <tbody>\n",
       "    <tr>\n",
       "      <th>0</th>\n",
       "      <td>1</td>\n",
       "      <td>109963</td>\n",
       "      <td>3</td>\n",
       "      <td>15</td>\n",
       "      <td>0.200000</td>\n",
       "    </tr>\n",
       "    <tr>\n",
       "      <th>1</th>\n",
       "      <td>1</td>\n",
       "      <td>26117</td>\n",
       "      <td>32</td>\n",
       "      <td>141</td>\n",
       "      <td>0.226950</td>\n",
       "    </tr>\n",
       "    <tr>\n",
       "      <th>2</th>\n",
       "      <td>1</td>\n",
       "      <td>138232</td>\n",
       "      <td>18</td>\n",
       "      <td>73</td>\n",
       "      <td>0.246575</td>\n",
       "    </tr>\n",
       "    <tr>\n",
       "      <th>3</th>\n",
       "      <td>1</td>\n",
       "      <td>26295</td>\n",
       "      <td>33</td>\n",
       "      <td>122</td>\n",
       "      <td>0.270492</td>\n",
       "    </tr>\n",
       "    <tr>\n",
       "      <th>4</th>\n",
       "      <td>1</td>\n",
       "      <td>18392</td>\n",
       "      <td>7</td>\n",
       "      <td>32</td>\n",
       "      <td>0.218750</td>\n",
       "    </tr>\n",
       "  </tbody>\n",
       "</table>\n",
       "</div>"
      ],
      "text/plain": [
       "   exp_group  user_id  likes  views       ctr\n",
       "0          1   109963      3     15  0.200000\n",
       "1          1    26117     32    141  0.226950\n",
       "2          1   138232     18     73  0.246575\n",
       "3          1    26295     33    122  0.270492\n",
       "4          1    18392      7     32  0.218750"
      ]
     },
     "execution_count": 3,
     "metadata": {},
     "output_type": "execute_result"
    }
   ],
   "source": [
    "df.head(5)"
   ]
  },
  {
   "cell_type": "markdown",
   "id": "c8aa1f9f-79b8-47e5-a66e-390a7f88e549",
   "metadata": {},
   "source": [
    "### Проверим количество юзеров в наших группах."
   ]
  },
  {
   "cell_type": "code",
   "execution_count": 4,
   "id": "b8da7461-7894-4463-b2fa-350136a1a439",
   "metadata": {},
   "outputs": [
    {
     "data": {
      "text/html": [
       "<div>\n",
       "<style scoped>\n",
       "    .dataframe tbody tr th:only-of-type {\n",
       "        vertical-align: middle;\n",
       "    }\n",
       "\n",
       "    .dataframe tbody tr th {\n",
       "        vertical-align: top;\n",
       "    }\n",
       "\n",
       "    .dataframe thead th {\n",
       "        text-align: right;\n",
       "    }\n",
       "</style>\n",
       "<table border=\"1\" class=\"dataframe\">\n",
       "  <thead>\n",
       "    <tr style=\"text-align: right;\">\n",
       "      <th></th>\n",
       "      <th>user_id</th>\n",
       "      <th>likes</th>\n",
       "      <th>views</th>\n",
       "      <th>ctr</th>\n",
       "    </tr>\n",
       "    <tr>\n",
       "      <th>exp_group</th>\n",
       "      <th></th>\n",
       "      <th></th>\n",
       "      <th></th>\n",
       "      <th></th>\n",
       "    </tr>\n",
       "  </thead>\n",
       "  <tbody>\n",
       "    <tr>\n",
       "      <th>1</th>\n",
       "      <td>10079</td>\n",
       "      <td>10079</td>\n",
       "      <td>10079</td>\n",
       "      <td>10079</td>\n",
       "    </tr>\n",
       "    <tr>\n",
       "      <th>2</th>\n",
       "      <td>9952</td>\n",
       "      <td>9952</td>\n",
       "      <td>9952</td>\n",
       "      <td>9952</td>\n",
       "    </tr>\n",
       "  </tbody>\n",
       "</table>\n",
       "</div>"
      ],
      "text/plain": [
       "           user_id  likes  views    ctr\n",
       "exp_group                              \n",
       "1            10079  10079  10079  10079\n",
       "2             9952   9952   9952   9952"
      ]
     },
     "execution_count": 4,
     "metadata": {},
     "output_type": "execute_result"
    }
   ],
   "source": [
    "df.groupby('exp_group').count()"
   ]
  },
  {
   "cell_type": "markdown",
   "id": "f9df7582-ae39-494d-98c0-e9f68acc8124",
   "metadata": {},
   "source": [
    "Как видим, количество юзеров в наших группах примерно одинаковое."
   ]
  },
  {
   "cell_type": "markdown",
   "id": "d6572a83-0957-4cd2-8c26-b89c6d3be5a2",
   "metadata": {},
   "source": [
    "### Построим гистограммы распределения средних значений CTR в наших группах."
   ]
  },
  {
   "cell_type": "code",
   "execution_count": 5,
   "id": "c922b75a-4154-44e3-bcdd-44f5737d3628",
   "metadata": {},
   "outputs": [
    {
     "data": {
      "text/plain": [
       "<AxesSubplot:xlabel='ctr', ylabel='Count'>"
      ]
     },
     "execution_count": 5,
     "metadata": {},
     "output_type": "execute_result"
    },
    {
     "data": {
      "image/png": "[encoded data removed]",
      "text/plain": [
       "<Figure size 842.4x595.44 with 1 Axes>"
      ]
     },
     "metadata": {},
     "output_type": "display_data"
    }
   ],
   "source": [
    "sns.set(rc={'figure.figsize':(11.7,8.27)})\n",
    "\n",
    "sns.histplot(data = df, \n",
    "              x='ctr', \n",
    "              hue='exp_group', \n",
    "              palette = ['r', 'b'],\n",
    "              alpha=0.5,\n",
    "              kde=False)"
   ]
  },
  {
   "cell_type": "markdown",
   "id": "661061ff-bc5c-4dff-a42b-a374d3b08da0",
   "metadata": {},
   "source": [
    "  **На гистограмме мы замечаем интересную ситуацию. Распределение первой, контрольной группы, близко к нормальному, с небольшим скосом в левую сторону. В это же время, распределение второй группы, на которой опробывался новый механизм рекомендаций, двугорбое или бимодальное. Это говорит о том, что наша группа перестала быть однородной после использования на ней новых рекомендаций. При этом горбы нашего распределения асиметричны, юзеров с небольшими средними значениями CTR больше, чем с высокими. Наша группа поляризовалась по сравнению с первой, можно предположить, что одной части пользователей пришёлся по душе новый алгоритм рекомендаций, в то время как вторая часть не приняла нововведений.\n",
    "  Бимодальность нашего распределения необходимо учитывать при проведении статистических тестов и быть аккуратными при их интерпретации.**\n",
    "    "
   ]
  },
  {
   "cell_type": "markdown",
   "id": "5e895b38-3bdd-4a9f-8255-f8d3364d96f4",
   "metadata": {},
   "source": [
    "### Определим среднее и медианное значения нашего CTR"
   ]
  },
  {
   "cell_type": "code",
   "execution_count": 6,
   "id": "2f9173cc-bebf-44b8-a77b-6e43a2625b81",
   "metadata": {},
   "outputs": [
    {
     "data": {
      "text/html": [
       "<div>\n",
       "<style scoped>\n",
       "    .dataframe tbody tr th:only-of-type {\n",
       "        vertical-align: middle;\n",
       "    }\n",
       "\n",
       "    .dataframe tbody tr th {\n",
       "        vertical-align: top;\n",
       "    }\n",
       "\n",
       "    .dataframe thead th {\n",
       "        text-align: right;\n",
       "    }\n",
       "</style>\n",
       "<table border=\"1\" class=\"dataframe\">\n",
       "  <thead>\n",
       "    <tr style=\"text-align: right;\">\n",
       "      <th></th>\n",
       "      <th>ctr</th>\n",
       "    </tr>\n",
       "    <tr>\n",
       "      <th>exp_group</th>\n",
       "      <th></th>\n",
       "    </tr>\n",
       "  </thead>\n",
       "  <tbody>\n",
       "    <tr>\n",
       "      <th>1</th>\n",
       "      <td>0.215605</td>\n",
       "    </tr>\n",
       "    <tr>\n",
       "      <th>2</th>\n",
       "      <td>0.214419</td>\n",
       "    </tr>\n",
       "  </tbody>\n",
       "</table>\n",
       "</div>"
      ],
      "text/plain": [
       "                ctr\n",
       "exp_group          \n",
       "1          0.215605\n",
       "2          0.214419"
      ]
     },
     "execution_count": 6,
     "metadata": {},
     "output_type": "execute_result"
    }
   ],
   "source": [
    "df.groupby('exp_group').agg({'ctr':'mean'})\n"
   ]
  },
  {
   "cell_type": "code",
   "execution_count": 7,
   "id": "b611c27d-b703-4066-ae03-5c91691448a9",
   "metadata": {},
   "outputs": [
    {
     "data": {
      "text/html": [
       "<div>\n",
       "<style scoped>\n",
       "    .dataframe tbody tr th:only-of-type {\n",
       "        vertical-align: middle;\n",
       "    }\n",
       "\n",
       "    .dataframe tbody tr th {\n",
       "        vertical-align: top;\n",
       "    }\n",
       "\n",
       "    .dataframe thead th {\n",
       "        text-align: right;\n",
       "    }\n",
       "</style>\n",
       "<table border=\"1\" class=\"dataframe\">\n",
       "  <thead>\n",
       "    <tr style=\"text-align: right;\">\n",
       "      <th></th>\n",
       "      <th>ctr</th>\n",
       "    </tr>\n",
       "    <tr>\n",
       "      <th>exp_group</th>\n",
       "      <th></th>\n",
       "    </tr>\n",
       "  </thead>\n",
       "  <tbody>\n",
       "    <tr>\n",
       "      <th>1</th>\n",
       "      <td>0.203125</td>\n",
       "    </tr>\n",
       "    <tr>\n",
       "      <th>2</th>\n",
       "      <td>0.142857</td>\n",
       "    </tr>\n",
       "  </tbody>\n",
       "</table>\n",
       "</div>"
      ],
      "text/plain": [
       "                ctr\n",
       "exp_group          \n",
       "1          0.203125\n",
       "2          0.142857"
      ]
     },
     "execution_count": 7,
     "metadata": {},
     "output_type": "execute_result"
    }
   ],
   "source": [
    "df.groupby('exp_group').agg({'ctr':'median'})"
   ]
  },
  {
   "cell_type": "markdown",
   "id": "24874fa6-dcbf-47c3-a65a-e3d34a3a127d",
   "metadata": {},
   "source": [
    "**Как мы видим, средние значения наших групп практически равны, в то время как медианное значение отличается на треть.**"
   ]
  },
  {
   "cell_type": "markdown",
   "id": "7186cfe2-5676-43c3-bdaa-96439a0e22c1",
   "metadata": {},
   "source": [
    "## T-test"
   ]
  },
  {
   "cell_type": "code",
   "execution_count": 8,
   "id": "612d3fd9-cb42-429e-b102-2bccca1db5e3",
   "metadata": {},
   "outputs": [
    {
     "name": "stdout",
     "output_type": "stream",
     "text": [
      "p-value = 0.4780623130874935\n",
      "Между средними значениями CTR групп 1 и 2 отстутствует статистически значимая разница.\n"
     ]
    }
   ],
   "source": [
    "t_test = stats.ttest_ind(df[df.exp_group == 1].ctr,\n",
    "                df[df.exp_group == 2].ctr,\n",
    "                equal_var=False)[1]\n",
    "print('p-value =',t_test)\n",
    "if t_test < 0.05:\n",
    "    print(\"Разница между средними значениями CTR групп 1 и 2 статистически значимая.\")\n",
    "else:     \n",
    "    print(\"Между средними значениями CTR групп 1 и 2 отстутствует статистически значимая разница.\")\n"
   ]
  },
  {
   "cell_type": "markdown",
   "id": "0545721d-03fb-46bd-95b2-7fb03f2d6928",
   "metadata": {},
   "source": [
    "**Результат проведенного t-теста показал, что статистически значимая разница между нашими группами отсутствует. Однако мы не можем считать результаты t-теста корректными, так как наше распределение не является нормальным. Оно бимодальное, с большим левым горбом и наличием хвоста в правой части.**"
   ]
  },
  {
   "cell_type": "markdown",
   "id": "4b8d6fd0-8608-490c-b618-45a7576a8600",
   "metadata": {},
   "source": [
    "## Тест Манна-Уитни"
   ]
  },
  {
   "cell_type": "code",
   "execution_count": 9,
   "id": "e6753dc5-ea2d-4085-b8e3-3b381ddeb715",
   "metadata": {},
   "outputs": [
    {
     "name": "stdout",
     "output_type": "stream",
     "text": [
      "p-value = 6.0376484617779035e-56\n",
      "Разница между средними значениями CTR групп 1 и 2 статистически значимая.\n"
     ]
    }
   ],
   "source": [
    "t_testmw = stats.mannwhitneyu(df[df.exp_group == 1].ctr,\n",
    "                df[df.exp_group == 2].ctr,\n",
    "                alternative='two-sided')[1]\n",
    "print('p-value = {}'.format(t_testmw))\n",
    "if t_testmw < 0.05:\n",
    "    print(\"Разница между средними значениями CTR групп 1 и 2 статистически значимая.\")\n",
    "else:     \n",
    "    print(\"Между средними значениями CTR групп 1 и 2 отстутствует статистически значимая разница.\")"
   ]
  },
  {
   "cell_type": "code",
   "execution_count": 10,
   "id": "91374de6-5307-4b74-b700-b7a50529c895",
   "metadata": {},
   "outputs": [
    {
     "name": "stdout",
     "output_type": "stream",
     "text": [
      "В 55.63 % случаев A > B. Должно получиться около 50%\n"
     ]
    }
   ],
   "source": [
    "A_gt_B = 0\n",
    "for _ in range(10000):\n",
    "    A_gt_B+= df[df.exp_group == 1].ctr.sample().values[0] > df[df.exp_group == 2].ctr.sample().values[0]\n",
    "    \n",
    "print('В', A_gt_B/100, '% случаев A > B. Должно получиться около 50%')"
   ]
  },
  {
   "cell_type": "markdown",
   "id": "ff0318f1-4bc7-489e-a245-ee534bc43e73",
   "metadata": {},
   "source": [
    "**Тест Манна-Уитни не так привязан к нормальности распределения. Результаты теста показывают наличие статистически значимой разницы между группами. Однако, количество случаев, когда при попарном сравнении значений между группами, значение в одной из групп больше, составляет 56,37%, хоть должно быть ближе к 50%. Для большей достоверности попробуем другие методы сравнения наших групп.**"
   ]
  },
  {
   "cell_type": "markdown",
   "id": "5632984e-6378-4390-9110-5061eae09cae",
   "metadata": {},
   "source": [
    "## Сглаженный CTR"
   ]
  },
  {
   "cell_type": "code",
   "execution_count": 11,
   "id": "2a43e01b-66b1-4d0c-8c11-207b86eb5c57",
   "metadata": {},
   "outputs": [],
   "source": [
    "def get_smothed_ctr(user_likes, user_views, global_ctr, alpha):\n",
    "    smothed_ctr = (user_likes + alpha * global_ctr) / (user_views + alpha)\n",
    "    return smothed_ctr\n",
    "\n",
    "global_ctr_1 = df[df.exp_group == 1].likes.sum()/df[df.exp_group == 1].views.sum()\n",
    "global_ctr_2 = df[df.exp_group == 2].likes.sum()/df[df.exp_group == 2].views.sum()\n",
    "\n",
    "group1 = df[df.exp_group == 1].copy()\n",
    "group2 = df[df.exp_group == 2].copy()\n",
    "\n",
    "\n"
   ]
  },
  {
   "cell_type": "code",
   "execution_count": 12,
   "id": "a288527f-ab82-4f1f-8f00-5a3c44f1536f",
   "metadata": {},
   "outputs": [
    {
     "data": {
      "text/plain": [
       "<AxesSubplot:xlabel='smothed_ctr', ylabel='Count'>"
      ]
     },
     "execution_count": 12,
     "metadata": {},
     "output_type": "execute_result"
    },
    {
     "data": {
      "image/png": "[encoded data removed]",
      "text/plain": [
       "<Figure size 842.4x595.44 with 1 Axes>"
      ]
     },
     "metadata": {},
     "output_type": "display_data"
    }
   ],
   "source": [
    "group1['smothed_ctr'] = df.apply(\n",
    "    lambda x: get_smothed_ctr(x['likes'], x['views'], global_ctr_1, 5), axis=1)\n",
    "\n",
    "group2['smothed_ctr'] = df.apply(\n",
    "    lambda x: get_smothed_ctr(x['likes'], x['views'], global_ctr_2, 5), axis=1)\n",
    "\n",
    "sns.histplot(data=pd.concat([group1,group2]),\n",
    "                     x = 'smothed_ctr',\n",
    "                     hue='exp_group',\n",
    "                     palette = ['r', 'b'],\n",
    "                     alpha = 0.5,\n",
    "                     kde=False)"
   ]
  },
  {
   "cell_type": "markdown",
   "id": "2eb840e4-c155-4af7-8a98-9a6c558d5b4a",
   "metadata": {},
   "source": [
    "### Проведем t-тест на сглаженном CTR."
   ]
  },
  {
   "cell_type": "code",
   "execution_count": 13,
   "id": "3e2cc90f-c008-4d96-8c7c-06b1bc83599d",
   "metadata": {},
   "outputs": [
    {
     "name": "stdout",
     "output_type": "stream",
     "text": [
      "p-value = 0.0223769815558559\n",
      "Разница между средними значениями CTR групп 1 и 2 статистически значимая.\n"
     ]
    }
   ],
   "source": [
    "t_testsm = stats.ttest_ind(group1.smothed_ctr,\n",
    "                group2.smothed_ctr,\n",
    "                equal_var=False)[1]\n",
    "print('p-value =',t_testsm)\n",
    "if t_testsm < 0.05:\n",
    "    print(\"Разница между средними значениями CTR групп 1 и 2 статистически значимая.\")\n",
    "else:     \n",
    "    print(\"Между средними значениями CTR групп 1 и 2 отстутствует статистически значимая разница.\")"
   ]
  },
  {
   "cell_type": "markdown",
   "id": "51f25063-92c8-4776-bec0-5e171f215b34",
   "metadata": {},
   "source": [
    "## Тест Манна-Уитни на сглаженном CTR"
   ]
  },
  {
   "cell_type": "code",
   "execution_count": 14,
   "id": "9229edfe-588b-42da-92a7-ff7476689a89",
   "metadata": {},
   "outputs": [
    {
     "name": "stdout",
     "output_type": "stream",
     "text": [
      "p-value = 1.6163964114270227e-61\n",
      "Разница между средними значениями CTR групп 1 и 2 статистически значимая.\n"
     ]
    }
   ],
   "source": [
    "t_testmwsm = stats.mannwhitneyu(group1.smothed_ctr,\n",
    "                group2.smothed_ctr,\n",
    "                alternative='two-sided')[1]\n",
    "print('p-value = {}'.format(t_testmwsm))\n",
    "if t_testmwsm < 0.05:\n",
    "    print(\"Разница между средними значениями CTR групп 1 и 2 статистически значимая.\")\n",
    "else:     \n",
    "    print(\"Между средними значениями CTR групп 1 и 2 отстутствует статистически значимая разница.\")"
   ]
  },
  {
   "cell_type": "markdown",
   "id": "bb6a336c-f120-4aad-a827-a9d727dd35e7",
   "metadata": {},
   "source": [
    "**В результате проведения t-теста и теста Манна-Уитни на сглаженном CTR, оба теста показали наличие статистически значимой разницы между нашими группами. Можно предположить, что при использовании сглаженного CTR мы уменьшили количество выбросов в нашем распределении, а также свели к минимуму \n",
    "вероятность больших по модулю отклонений, что сделало работу t-теста более корректной.**"
   ]
  },
  {
   "cell_type": "markdown",
   "id": "1d9f01d3-e3e7-4962-a190-b7017f784da2",
   "metadata": {},
   "source": [
    "## Пуассоновский бутстреп"
   ]
  },
  {
   "cell_type": "code",
   "execution_count": 15,
   "id": "91c047c7-d85f-46c4-8c06-5f0e08e3a6b8",
   "metadata": {},
   "outputs": [
    {
     "data": {
      "text/plain": [
       "<AxesSubplot:ylabel='Count'>"
      ]
     },
     "execution_count": 15,
     "metadata": {},
     "output_type": "execute_result"
    },
    {
     "data": {
      "image/png": "[encoded data removed]",
      "text/plain": [
       "<Figure size 842.4x595.44 with 1 Axes>"
      ]
     },
     "metadata": {},
     "output_type": "display_data"
    }
   ],
   "source": [
    "def bootstrap(likes1, views1, likes2, views2, n_bootstrap=2000):\n",
    "\n",
    "    poisson_bootstraps1 = stats.poisson(1).rvs(\n",
    "        (n_bootstrap, len(likes1))).astype(np.int64)\n",
    "\n",
    "    poisson_bootstraps2 = stats.poisson(1).rvs(\n",
    "            (n_bootstrap, len(likes2))).astype(np.int64)\n",
    "    \n",
    "    globalCTR1 = (poisson_bootstraps1*likes1).sum(axis=1)/(poisson_bootstraps1*views1).sum(axis=1)\n",
    "    \n",
    "    globalCTR2 = (poisson_bootstraps2*likes2).sum(axis=1)/(poisson_bootstraps2*views2).sum(axis=1)\n",
    "\n",
    "    return globalCTR1, globalCTR2\n",
    "\n",
    "\n",
    "df = pandahouse.read_clickhouse(q, connection=connection)\n",
    "\n",
    "likes1 = df[df.exp_group == 1].likes.to_numpy()\n",
    "views1 = df[df.exp_group == 1].views.to_numpy()\n",
    "likes2 = df[df.exp_group == 2].likes.to_numpy()\n",
    "views2 = df[df.exp_group == 2].views.to_numpy()\n",
    "\n",
    "ctr1, ctr2 = bootstrap(likes1, views1, likes2, views2)\n",
    "\n",
    "sns.histplot(ctr1)\n",
    "sns.histplot(ctr2)"
   ]
  },
  {
   "cell_type": "code",
   "execution_count": 13,
   "id": "62da966b-f0f3-476f-884a-10ecf65fef02",
   "metadata": {},
   "outputs": [
    {
     "data": {
      "text/plain": [
       "<AxesSubplot:ylabel='Count'>"
      ]
     },
     "execution_count": 13,
     "metadata": {},
     "output_type": "execute_result"
    },
    {
     "data": {
      "image/png": "[encoded data removed]",
      "text/plain": [
       "<Figure size 842.4x595.44 with 1 Axes>"
      ]
     },
     "metadata": {},
     "output_type": "display_data"
    }
   ],
   "source": [
    "sns.histplot(ctr2 - ctr1)"
   ]
  },
  {
   "cell_type": "markdown",
   "id": "860abb3c-5c7e-46ff-8787-e81f9b997da2",
   "metadata": {},
   "source": [
    "**Благодоря использованию Пуассоновского бутстрепа, мы можем сделать ряд выводов. Мы можем утверждать, что в группе 1 значения глобального CTR выше, чем в группе 2. Гистограммы распределений глобального CTR не пересекаются, если мы проведем t-тест, значение p-value будет равно 0. При построении гистограммы разниц глобальных CTR, отняв значения группы 2 от значений группы 1, можно наблюдать, что значения наших разниц - отрицательные. А данные результаты абсолютно противоположны нашей гипотезе. При использовании новой методики рекомендаций, значения CTR стали ниже, чем при традиционной подаче ленты новостей.**"
   ]
  },
  {
   "cell_type": "markdown",
   "id": "09026262-65cf-48ed-a144-27c29574810a",
   "metadata": {},
   "source": [
    "## Бакетное преобразование"
   ]
  },
  {
   "cell_type": "markdown",
   "id": "57259a2a-e27c-47bc-b4b0-9e8433427c6d",
   "metadata": {},
   "source": [
    "Разобъём наших пользователей на n «корзинок» («бакетов»). При этом, что каждый пользователь попадет только в один бакет и пользователи по бакетам будут распределены равномерно."
   ]
  },
  {
   "cell_type": "code",
   "execution_count": 16,
   "id": "9313727c-5e33-474e-88a4-f5e44996eb63",
   "metadata": {},
   "outputs": [],
   "source": [
    "q = \"\"\"\n",
    "\n",
    "SELECT exp_group, bucket,\n",
    "    sum(likes)/sum(views) as bucket_ctr,\n",
    "    quantileExact(0.9)(ctr) as ctr9\n",
    "FROM (SELECT exp_group, \n",
    "        xxHash64(user_id)%50 as bucket,\n",
    "        user_id,\n",
    "        sum(action = 'like') as likes,\n",
    "        sum(action = 'view') as views,\n",
    "        likes/views as ctr\n",
    "    FROM {db}.feed_actions \n",
    "    WHERE toDate(time) between '2022-09-03' and '2022-09-09'\n",
    "        and exp_group in (1,2)\n",
    "    GROUP BY exp_group, bucket, user_id)\n",
    "GROUP BY exp_group, bucket\n",
    "\"\"\"\n",
    "\n",
    "df = pandahouse.read_clickhouse(q, connection=connection)\n",
    "\n"
   ]
  },
  {
   "cell_type": "code",
   "execution_count": 17,
   "id": "247913ec-acaf-42a3-a22f-82bdc9ffaa60",
   "metadata": {},
   "outputs": [
    {
     "data": {
      "text/html": [
       "<div>\n",
       "<style scoped>\n",
       "    .dataframe tbody tr th:only-of-type {\n",
       "        vertical-align: middle;\n",
       "    }\n",
       "\n",
       "    .dataframe tbody tr th {\n",
       "        vertical-align: top;\n",
       "    }\n",
       "\n",
       "    .dataframe thead th {\n",
       "        text-align: right;\n",
       "    }\n",
       "</style>\n",
       "<table border=\"1\" class=\"dataframe\">\n",
       "  <thead>\n",
       "    <tr style=\"text-align: right;\">\n",
       "      <th></th>\n",
       "      <th>exp_group</th>\n",
       "      <th>bucket</th>\n",
       "      <th>bucket_ctr</th>\n",
       "      <th>ctr9</th>\n",
       "    </tr>\n",
       "  </thead>\n",
       "  <tbody>\n",
       "    <tr>\n",
       "      <th>0</th>\n",
       "      <td>1</td>\n",
       "      <td>0</td>\n",
       "      <td>0.196481</td>\n",
       "      <td>0.307692</td>\n",
       "    </tr>\n",
       "    <tr>\n",
       "      <th>1</th>\n",
       "      <td>2</td>\n",
       "      <td>0</td>\n",
       "      <td>0.194262</td>\n",
       "      <td>0.384615</td>\n",
       "    </tr>\n",
       "    <tr>\n",
       "      <th>2</th>\n",
       "      <td>1</td>\n",
       "      <td>1</td>\n",
       "      <td>0.211887</td>\n",
       "      <td>0.318182</td>\n",
       "    </tr>\n",
       "    <tr>\n",
       "      <th>3</th>\n",
       "      <td>2</td>\n",
       "      <td>1</td>\n",
       "      <td>0.215328</td>\n",
       "      <td>0.467742</td>\n",
       "    </tr>\n",
       "    <tr>\n",
       "      <th>4</th>\n",
       "      <td>1</td>\n",
       "      <td>2</td>\n",
       "      <td>0.206271</td>\n",
       "      <td>0.322314</td>\n",
       "    </tr>\n",
       "  </tbody>\n",
       "</table>\n",
       "</div>"
      ],
      "text/plain": [
       "   exp_group  bucket  bucket_ctr      ctr9\n",
       "0          1       0    0.196481  0.307692\n",
       "1          2       0    0.194262  0.384615\n",
       "2          1       1    0.211887  0.318182\n",
       "3          2       1    0.215328  0.467742\n",
       "4          1       2    0.206271  0.322314"
      ]
     },
     "execution_count": 17,
     "metadata": {},
     "output_type": "execute_result"
    }
   ],
   "source": [
    "df.head()"
   ]
  },
  {
   "cell_type": "markdown",
   "id": "a89185fd-fa09-4fe5-8b21-35d50b191593",
   "metadata": {},
   "source": [
    "#### Проведём t-тест и тест Манна-Уитни поверх бакетного преобразования."
   ]
  },
  {
   "cell_type": "markdown",
   "id": "55fe2f98-8af3-469a-aac9-c91f7eeeac03",
   "metadata": {},
   "source": [
    "Тест Манна-Уитни"
   ]
  },
  {
   "cell_type": "code",
   "execution_count": 22,
   "id": "d9639f9c-de29-47c0-a48a-d7e2a9b3c924",
   "metadata": {},
   "outputs": [
    {
     "data": {
      "text/plain": [
       "MannwhitneyuResult(statistic=1995.0, pvalue=2.859963936492646e-07)"
      ]
     },
     "execution_count": 22,
     "metadata": {},
     "output_type": "execute_result"
    }
   ],
   "source": [
    "stats.mannwhitneyu(df[df.exp_group == 1].bucket_ctr, \n",
    "                   df[df.exp_group == 2].bucket_ctr, \n",
    "                   alternative = 'two-sided')"
   ]
  },
  {
   "cell_type": "markdown",
   "id": "9ab1843f-d0ea-4287-802c-39d45bacb89a",
   "metadata": {},
   "source": [
    "T-тест"
   ]
  },
  {
   "cell_type": "code",
   "execution_count": 23,
   "id": "2bb84998-c41c-4718-9d38-9e6add227032",
   "metadata": {},
   "outputs": [
    {
     "data": {
      "text/plain": [
       "Ttest_indResult(statistic=5.668234732053979, pvalue=3.4455951649945907e-07)"
      ]
     },
     "execution_count": 23,
     "metadata": {},
     "output_type": "execute_result"
    }
   ],
   "source": [
    "stats.ttest_ind(df[df.exp_group == 1].bucket_ctr, \n",
    "                   df[df.exp_group == 2].bucket_ctr, \n",
    "                   equal_var = False)\n"
   ]
  },
  {
   "cell_type": "markdown",
   "id": "4b116c58-a590-4ba7-aba2-22e98009888a",
   "metadata": {},
   "source": [
    "Оба теста показали наличие статистической разности между нашими группами."
   ]
  },
  {
   "cell_type": "code",
   "execution_count": 24,
   "id": "8837c0c6-60bc-46b2-8683-fc308bb119db",
   "metadata": {},
   "outputs": [
    {
     "data": {
      "text/plain": [
       "<AxesSubplot:xlabel='bucket_ctr', ylabel='Count'>"
      ]
     },
     "execution_count": 24,
     "metadata": {},
     "output_type": "execute_result"
    },
    {
     "data": {
      "image/png": "[encoded data removed]",
      "text/plain": [
       "<Figure size 842.4x595.44 with 1 Axes>"
      ]
     },
     "metadata": {},
     "output_type": "display_data"
    }
   ],
   "source": [
    "sns.histplot(df[df.exp_group == 1].bucket_ctr)"
   ]
  },
  {
   "cell_type": "code",
   "execution_count": 25,
   "id": "57e5f3b1-cce4-41ac-9550-eee18c3dcf02",
   "metadata": {},
   "outputs": [
    {
     "data": {
      "text/plain": [
       "<AxesSubplot:xlabel='bucket_ctr', ylabel='Count'>"
      ]
     },
     "execution_count": 25,
     "metadata": {},
     "output_type": "execute_result"
    },
    {
     "data": {
      "image/png": "[encoded data removed]",
      "text/plain": [
       "<Figure size 842.4x595.44 with 1 Axes>"
      ]
     },
     "metadata": {},
     "output_type": "display_data"
    }
   ],
   "source": [
    "sns.histplot(df[df.exp_group == 2].bucket_ctr)"
   ]
  },
  {
   "cell_type": "markdown",
   "id": "b976aa0c-8345-48c4-9603-c0ee3c31d237",
   "metadata": {},
   "source": [
    "Гистограммы распределения CTR после бакетного преобразования показывают, что распределение CTR в группе 1 близко к нормальному, а вот в группе 2 наблюдается асимметрия со смещением влево и удлиненным хвостом вправо."
   ]
  },
  {
   "cell_type": "code",
   "execution_count": 27,
   "id": "eaf21aca-a94c-4e13-b4f4-76d0a7167f77",
   "metadata": {},
   "outputs": [
    {
     "data": {
      "text/plain": [
       "<AxesSubplot:xlabel='ctr9', ylabel='Count'>"
      ]
     },
     "execution_count": 27,
     "metadata": {},
     "output_type": "execute_result"
    },
    {
     "data": {
      "image/png": "[encoded data removed]",
      "text/plain": [
       "<Figure size 842.4x595.44 with 1 Axes>"
      ]
     },
     "metadata": {},
     "output_type": "display_data"
    }
   ],
   "source": [
    "sns.histplot(df[df.exp_group == 1].ctr9)"
   ]
  },
  {
   "cell_type": "code",
   "execution_count": 28,
   "id": "f52ec0ee-9023-49c0-b9c8-9c24931ae90a",
   "metadata": {},
   "outputs": [
    {
     "data": {
      "text/plain": [
       "<AxesSubplot:xlabel='ctr9', ylabel='Count'>"
      ]
     },
     "execution_count": 28,
     "metadata": {},
     "output_type": "execute_result"
    },
    {
     "data": {
      "image/png": "[encoded data removed]",
      "text/plain": [
       "<Figure size 842.4x595.44 with 1 Axes>"
      ]
     },
     "metadata": {},
     "output_type": "display_data"
    }
   ],
   "source": [
    "sns.histplot(df[df.exp_group == 2].ctr9)"
   ]
  },
  {
   "cell_type": "markdown",
   "id": "2745154d-7351-463e-a31f-0293eff98684",
   "metadata": {},
   "source": [
    "Анализ распределения 90% процентиля также указывает на то, что во второй группе присутствует большой разброс показателей, распределение смещено влево, присудствует удлиненный хвост вправо."
   ]
  },
  {
   "cell_type": "markdown",
   "id": "9cfc0209-3846-431d-8edf-0d2051f55817",
   "metadata": {},
   "source": [
    "## Вывод"
   ]
  },
  {
   "cell_type": "markdown",
   "id": "b4371a2a-7437-4dde-b946-c99a5447b101",
   "metadata": {},
   "source": [
    "   **Нами было произведено сравнение двух групп, тестовой и контрольной, для подтверждения гипотезы о том, что после изменения алгоритма рекомендаций ленты новостей, значение CTR станет выше. Для этого мы использовали t-тест, тест Манна-Уитни, тесты поверх сглаженного CTR и бакетного преобразования, а также Пуассоновский бутстреп. Отметим, что распределение среднего CTR во второй группе неравномерное, бимодальное с наличием выбросов, поэтому применение t-теста в нашем исследовании нежелательно. Что и было подтверждено нами. Результаты t-теста показали отсутствие различия между выборками. Лучше отдать предпочтение тесту Манна-Уитни, не так зависящего от характера распределения. \n",
    "   В результате применения сглаженного CTR, оба теста показали одинаковые результаты о наличии статистически значимой разницы между группами. Сглаживание CTR помогло устранить выбросы в нашем распределении, что сделало работу т-теста более корректной, однако неравномерность распределения сохранилось, поэтому нужно быть осторожными при трактовке результата теста.\n",
    "   Пуассоновский бутстреп и тесты поверх бакетного преобразования также показали наличие разницы между нашими группами.\n",
    "Однако, результаты нашего эксперимента не подтверждают выдвинутую гипотезу. В результате использования нового алгоритма рекомендаций, значение CTR не увеличилось. Поэтому на данном этапе не рукомендуется распространять данный алгоритм на всех пользователей. При этом, исходя из гистограммы распределения CTR тестовой группы, можно утверждать, что пользователией можно разделить на две группы - тех, кто принял новый алгоритм позитивно (правый горб нашего распределения с высокими CTR) и тех, кому нововведения пришлись не по душе (левый горб с низкими CTR по сравнению с контрольной группой). Логичным видится проведение исследования с целью выявления причин разницы между группами (по количеству просмотров, гендеру, возрасту и т.д.). При выявлении причин, алгоритм рекомендаций можно даработать и снова попробовать протестировать на пользователях. Возможной причиной опровержения гипотезы может быть также изначально плохо разработанный алгоритм рекомендаций.**"
   ]
  }
 ],
 "metadata": {
  "kernelspec": {
   "display_name": "Python 3 (ipykernel)",
   "language": "python",
   "name": "python3"
  },
  "language_info": {
   "codemirror_mode": {
    "name": "ipython",
    "version": 3
   },
   "file_extension": ".py",
   "mimetype": "text/x-python",
   "name": "python",
   "nbconvert_exporter": "python",
   "pygments_lexer": "ipython3",
   "version": "3.8.10"
  }
 },
 "nbformat": 4,
 "nbformat_minor": 5
}
